{
 "cells": [
  {
   "cell_type": "markdown",
   "id": "0321c6c3-cf8a-4afd-818b-aa023de0d0d7",
   "metadata": {},
   "source": [
    "# [Projeto Final] Uhul Store: Departamento de Festas e Celebrações\n",
    "\n",
    "Festas e celebrações são momentos ideais para comemorarmos conquistas ou para reunirmos a família, amigos e demais pessoas que compõem o nosso ciclo social. A loja Uhul Store é uma loja e-commerce voltada à venda de produtos de festas e comemorações especiais.\n",
    "\n",
    "Entre o final do ano de 2018 e o início do ano de 2019 foi implementada uma nova plataforma de vendas, para ampliar a margem de lucro do negócio. Os sócios e gestores identificaram um aumento expressivo no número de vendas, porém requisitaram que observemos os números por meio de uma análise dos dados, com visualizações gráficas e aplicação de hipóteses para estudar os diferentes grupos de usuários que utilizam o sistema.\n",
    "\n",
    "Logo de início, fomos informados que o banco de dados contém um enorme conjunto de dados, com alguns problemas de registro nas informações. Dessa forma, antes de analisarmos o material, teremos de investigar e tratar os dados problemáticos, com o intuito de apresentar ao nosso cliente uma representação fidedigna do uso da plataforma e um modelo final refinado, gerando mais confiança sobre os números da análise geral e nas conclusões obtidas pelo estudo em tela.\n",
    "\n",
    "Dashboard: https://public.tableau.com/app/profile/yuri.barbalho/viz/UhulStore/Dashboard\n",
    "\n",
    "---"
   ]
  },
  {
   "cell_type": "markdown",
   "id": "6b03eeb5-e4a4-4875-945a-45ad7ec9d9b7",
   "metadata": {},
   "source": [
    "## 1. Importando os dados\n",
    "\n",
    "Inicialmente, importaremos as bilbiotecas e dados da análise, para que tenhamos uma visão geral sobre as informações presentes no conjunto de dados."
   ]
  },
  {
   "cell_type": "code",
   "execution_count": null,
   "id": "ef7025ae-4538-468f-96af-66fe988b7d36",
   "metadata": {},
   "outputs": [],
   "source": [
    "# Importa as bibliotecas.\n",
    "import pandas as pd\n",
    "import numpy as np\n",
    "import matplotlib.pyplot as plt\n",
    "import seaborn as sns"
   ]
  },
  {
   "cell_type": "code",
   "execution_count": null,
   "id": "5ee812b7-8592-46b4-8558-9d0543811dcd",
   "metadata": {},
   "outputs": [],
   "source": [
    "# Importa o conjunto de dados. A separação dos dados é feita por tabulação.\n",
    "df = pd.read_csv('./datasets/ecommerce_dataset_us.csv', sep='\\t')"
   ]
  },
  {
   "cell_type": "code",
   "execution_count": null,
   "id": "c301b011-965f-4e67-932d-f1ec4a1443af",
   "metadata": {},
   "outputs": [],
   "source": [
    "# Visão geral dos dados\n",
    "df.head()"
   ]
  },
  {
   "cell_type": "code",
   "execution_count": null,
   "id": "0b4d076b-2051-43fd-8a26-343f9a3121ae",
   "metadata": {},
   "outputs": [],
   "source": [
    "# Informações gerais sobre os dados\n",
    "df.info()"
   ]
  },
  {
   "cell_type": "markdown",
   "id": "eaf6f2f9-7876-47b8-acb2-281e17cc122c",
   "metadata": {},
   "source": [
    "Em uma análise básica dos dados, notamos que alguns deles contêm formatos divergentes ao ideal para o prosseguimento do estudo. Ademais, percebemos que algumas colunas contêm valores ausentes.\n",
    "\n",
    "---"
   ]
  },
  {
   "cell_type": "markdown",
   "id": "de69e0e3-9a9e-4b9d-8046-36e619dc0a77",
   "metadata": {},
   "source": [
    "## 2. Pré-processamento e tratamento dos dados\n",
    "\n",
    "Inicialmente, iremos padronizar o preenchimento das colunas que contêm caracteres. Esses caracteres podem constar no conjunto de dados como maiúsculos ou minúsculos, fazendo com que nosso código interprete informações idênticas como diferentes, por conta da formatação. Portanto, faremos com que todas as colunas que apresentam caracteres estejam no formato maiúsculo."
   ]
  },
  {
   "cell_type": "code",
   "execution_count": null,
   "id": "cd7e090f-0575-4855-b2c9-7d6d59f5c506",
   "metadata": {},
   "outputs": [],
   "source": [
    "# Padroniza a coluna para o formato maiúsculo e remove espaços antes e depois da string.\n",
    "df['InvoiceNo'] = df['InvoiceNo'].str.strip()\n",
    "df['InvoiceNo'] = df['InvoiceNo'].str.upper()"
   ]
  },
  {
   "cell_type": "code",
   "execution_count": null,
   "id": "20d8cd0e-eae3-47e6-ac43-5e8b438a8a9f",
   "metadata": {},
   "outputs": [],
   "source": [
    "df['StockCode'] = df['StockCode'].str.strip()\n",
    "df['StockCode'] = df['StockCode'].str.upper()"
   ]
  },
  {
   "cell_type": "code",
   "execution_count": null,
   "id": "98221ad5-5bae-41ca-9450-cae2b7938149",
   "metadata": {},
   "outputs": [],
   "source": [
    "df['Description'] = df['Description'].str.strip()\n",
    "df['Description'] = df['Description'].str.upper()"
   ]
  },
  {
   "cell_type": "code",
   "execution_count": null,
   "id": "215fa6d4-9099-40bf-9051-66780632062f",
   "metadata": {},
   "outputs": [],
   "source": [
    "# Verifica registros com Description nulo.\n",
    "df[df['Description'].isna()]['StockCode'].value_counts().head()"
   ]
  },
  {
   "cell_type": "markdown",
   "id": "a1b98684-8162-4cdc-a90b-33e26814b4bd",
   "metadata": {},
   "source": [
    "Alguns elementos do conjunto de dados não possuem o valor de `Description`, mas apresentam a identificação do produto em `StockCode`. Como outras colunas com o mesmo `StockCode` possuem o valor referente a `Description`, podemos mapear essa informação de modo a atribuir a descrição correta para os registros com essa informação ausente, por meio do identificador."
   ]
  },
  {
   "cell_type": "code",
   "execution_count": null,
   "id": "d0693935-2f8b-4241-959b-8c613445c203",
   "metadata": {},
   "outputs": [],
   "source": [
    "# Mapeando os StockCode cuja Description não esteja vazia. Utilizaremos a informação para preencher a Description vazia dos respectivos StockCode.\n",
    "mapping = df.loc[df['Description'].notna()].drop_duplicates('StockCode').set_index('StockCode')['Description']\n",
    "mapping.head()"
   ]
  },
  {
   "cell_type": "code",
   "execution_count": null,
   "id": "39d027fe-7814-4685-80b0-f63cf5ae0e9f",
   "metadata": {},
   "outputs": [],
   "source": [
    "# Atribui Description com base no mapeamento de StockCode.\n",
    "df['Description'] = df['Description'].fillna(df['StockCode'].map(mapping))"
   ]
  },
  {
   "cell_type": "markdown",
   "id": "c0e2a947-0d8a-4437-9ab2-55d388328ed7",
   "metadata": {},
   "source": [
    "Acima foi gerada uma `Series` com base nos valores não-ausentes de `Description`, sobre os quais ignoramos o `StockCode` duplicado, definimos o código como índice da `Series` e obtivemos a respectiva `Description` para aquele identificador. Com esses dados em mãos, podemos percorrer o conjunto de dados preenchendo registros nulos em `Description` com a descrição correspondente informada no mapeamento de `StockCode`."
   ]
  },
  {
   "cell_type": "code",
   "execution_count": null,
   "id": "bcc672ef-7703-43ce-9e93-52dea09a1def",
   "metadata": {},
   "outputs": [],
   "source": [
    "df.info()"
   ]
  },
  {
   "cell_type": "code",
   "execution_count": null,
   "id": "7df75948-184e-4ba3-a940-ae67fe3b4a73",
   "metadata": {},
   "outputs": [],
   "source": [
    "# Verifica quantidades negativas de produtos.\n",
    "df[df['Quantity']<0].head()"
   ]
  },
  {
   "cell_type": "code",
   "execution_count": null,
   "id": "e55d703e-d444-4e22-8c58-b74272d451e8",
   "metadata": {},
   "outputs": [],
   "source": [
    "# Itens únicos com quantidade negativa\n",
    "df[df['Quantity']<0]['InvoiceNo'].nunique()"
   ]
  },
  {
   "cell_type": "markdown",
   "id": "55986566-d220-446d-9a18-00db3e9b8f21",
   "metadata": {},
   "source": [
    "Nosso conjunto de dados contém 5.172 registros que informam uma quantidade negativa de produtos vendidos. Esse registro negativo pode se tratar tanto de um erro na informação, quanto da devolução de produtos. Como não podemos prever sua representação, iremos remover tais informações da nossa tabela."
   ]
  },
  {
   "cell_type": "code",
   "execution_count": null,
   "id": "aea8c594-0846-4a07-86eb-080d0631564e",
   "metadata": {},
   "outputs": [],
   "source": [
    "# Remove itens com a quantidade negativa de produtos.\n",
    "df = df[(~df['InvoiceNo'].isin(df[df['Quantity']<0]['InvoiceNo']))]"
   ]
  },
  {
   "cell_type": "markdown",
   "id": "8871123f-ead9-43c9-a7bc-4eb36c41c9c8",
   "metadata": {},
   "source": [
    "Como observado anteriormente, a coluna `CustomerID` possui uma ausência notável de valores de identificação dos clientes. No entanto, essas informações podem ser importantes para a análise geral dos dados.\n",
    "\n",
    "A princípio, atribuíremos um valor `zero` para manter as informações desses clientes no nosso conjunto de dados. Porém, no decorrer a análise necessitaremos remover tais registros, pois um identificador único para todos eles pode interferir na análise do perfil de comportamento de clientes únicos."
   ]
  },
  {
   "cell_type": "code",
   "execution_count": null,
   "id": "44f94726-0a36-4447-be89-28e8c30b49d4",
   "metadata": {},
   "outputs": [],
   "source": [
    "# Preenche com 0 (zero) os valores vazios de ID do cliente.\n",
    "df['CustomerID'] = df['CustomerID'].fillna(0)"
   ]
  },
  {
   "cell_type": "code",
   "execution_count": null,
   "id": "ee45067f-5a55-486a-81f9-51ea7abc9b8e",
   "metadata": {},
   "outputs": [],
   "source": [
    "# Converte os valores das colunas para inteiro.\n",
    "df['Quantity'] = df['Quantity'].astype(int)\n",
    "df['CustomerID'] = df['CustomerID'].astype(int)"
   ]
  },
  {
   "cell_type": "code",
   "execution_count": null,
   "id": "5b7e3aac-43dc-411e-acbc-81c01f015c64",
   "metadata": {},
   "outputs": [],
   "source": [
    "df.info()"
   ]
  },
  {
   "cell_type": "markdown",
   "id": "3a2f9247-50fb-4b38-b4e5-eada8d44fd47",
   "metadata": {},
   "source": [
    "Registramos 531.285 linhas totais no conjunto de dados, sendo que a coluna `Description` contém 531.272 dados preenchidos. Devido à ínfima diferença entre os números, vamos remover os registros que contêm valores nulos para essa coluna, evitando que interfiram na execução da análise."
   ]
  },
  {
   "cell_type": "code",
   "execution_count": null,
   "id": "914f4a53-57c7-430f-8724-0e034b61b171",
   "metadata": {},
   "outputs": [],
   "source": [
    "# Remove registros que contenham valores nulos.\n",
    "df.dropna(inplace=True)"
   ]
  },
  {
   "cell_type": "markdown",
   "id": "fe46f7dc-4331-48da-9f9b-b7c67f6bdc63",
   "metadata": {},
   "source": [
    "Tratados os valores ausentes, iremos por fim remover possíveis itens duplicados que estejam presentem no nosso conjunto de dados."
   ]
  },
  {
   "cell_type": "code",
   "execution_count": null,
   "id": "6d56f392-b741-4c04-94e5-bda89e689e46",
   "metadata": {},
   "outputs": [],
   "source": [
    "# Remove valores duplicados.\n",
    "df = df.drop_duplicates()"
   ]
  },
  {
   "cell_type": "markdown",
   "id": "e1941ed1-cd1d-4725-b966-67b095fbc9da",
   "metadata": {},
   "source": [
    "### 2.1 Ajustando as informações\n",
    "\n",
    "Finalizada a remoção dos valores ausentes e duplicados, iremos a partir de agora realizar o tratamento dos dados restantes no conjunto de dados, garantindo que as informações presentes sejam identificadas de forma idônea e clara dentro de nossa análise"
   ]
  },
  {
   "cell_type": "code",
   "execution_count": null,
   "id": "1817c0e6-6232-4d8c-bd4b-800d94c3d66b",
   "metadata": {},
   "outputs": [],
   "source": [
    "# Converte a coluna para o tipo datetime.\n",
    "df['InvoiceDate'] = pd.to_datetime(df['InvoiceDate'])"
   ]
  },
  {
   "cell_type": "code",
   "execution_count": null,
   "id": "c94731f6-b22b-42da-af03-4a456ccd19c9",
   "metadata": {},
   "outputs": [],
   "source": [
    "# Cria a coluna de preço total do registro.\n",
    "df['TotalPrice'] = df['Quantity'] * df['UnitPrice']"
   ]
  },
  {
   "cell_type": "code",
   "execution_count": null,
   "id": "e0e3e985-5bbe-42f4-900d-3d5f11cf5a47",
   "metadata": {},
   "outputs": [],
   "source": [
    "df.info()"
   ]
  },
  {
   "cell_type": "markdown",
   "id": "59267c22-f9e4-4fd6-9f19-adef37a939dd",
   "metadata": {},
   "source": [
    "Inicialmente, convertemos a coluna `InvoiceDate` para o formato `datetime`, de modo que possamos obter informações específicas sobre o dia e horário da compra. Além disso, criamos a coluna `TotalPrice`, que identifica o preço total constante no registro, multiplicando a quantidade de itens pelo preço unitário de cada um."
   ]
  },
  {
   "cell_type": "code",
   "execution_count": null,
   "id": "7e7546ad-b754-441f-ba76-fe900edc5392",
   "metadata": {},
   "outputs": [],
   "source": [
    "# Cria uma coluna com a data da compra.\n",
    "df['Date'] = df['InvoiceDate'].dt.floor('D')"
   ]
  },
  {
   "cell_type": "code",
   "execution_count": null,
   "id": "01a8011d-a490-4b07-a0e5-910719cb24bb",
   "metadata": {},
   "outputs": [],
   "source": [
    "# Cria uma coluna com o horário da compra.\n",
    "df['Hour'] = df['InvoiceDate'].dt.hour"
   ]
  },
  {
   "cell_type": "code",
   "execution_count": null,
   "id": "05e464ad-0841-46ac-a186-c609b7097e98",
   "metadata": {},
   "outputs": [],
   "source": [
    "# Remove a coluna geral de data e horário de compra.\n",
    "df = df.drop('InvoiceDate', axis=1)"
   ]
  },
  {
   "cell_type": "code",
   "execution_count": null,
   "id": "f644f023-f1e7-4a38-81aa-e0c2640d93cc",
   "metadata": {},
   "outputs": [],
   "source": [
    "# Cria uma coluna com o dia da semana da compra.\n",
    "df['WeekDay'] = df['Date'].dt.weekday"
   ]
  },
  {
   "cell_type": "code",
   "execution_count": null,
   "id": "3a6370fe-5ba8-470a-bc87-66bed7ac7291",
   "metadata": {},
   "outputs": [],
   "source": [
    "# Cria uma coluna com o mês e ano da compra.\n",
    "df['Month'] = df['Date'].dt.to_period('M')"
   ]
  },
  {
   "cell_type": "markdown",
   "id": "44b26143-e4a3-4805-93e9-a0ef79deb235",
   "metadata": {},
   "source": [
    "Referente à informação de datas, produzimos quatro novas colunas, cada uma contendo uma informação específica sobre a data da compra. A coluna `Date` mantém o registro do dia da compra, e a coluna `Hour` o registro do horário. `WeekDay` identifica o dia da semana em que a compra foi realizada, e `Month` registra o mês e o ano da compra.\n",
    "\n",
    "Com essas informações separadas em colunas, não há necessidade de mantermos uma coluna única contendo todos esses registros. Portanto, removemos a coluna `InvoiceDate` do nosso conjunto de dados, para simplificarmos as informações presentes."
   ]
  },
  {
   "cell_type": "code",
   "execution_count": null,
   "id": "6cfd5f9d-9873-4caf-a406-a2cbcbc9d143",
   "metadata": {},
   "outputs": [],
   "source": [
    "df.info()"
   ]
  },
  {
   "cell_type": "markdown",
   "id": "0fc2fa55-c4fe-4f9b-bbd3-1c885cda08ac",
   "metadata": {},
   "source": [
    "### 2.2 Identificação e remoção de mecanismos financeiros"
   ]
  },
  {
   "cell_type": "code",
   "execution_count": null,
   "id": "c01b2155-62c4-4804-8aca-b97cce401456",
   "metadata": {},
   "outputs": [],
   "source": [
    "# Ordena os dados por TotalPrice (crescente).\n",
    "df.sort_values('TotalPrice').head()"
   ]
  },
  {
   "cell_type": "markdown",
   "id": "7744b261-aad1-4b24-abf0-5e8c8e23c58d",
   "metadata": {},
   "source": [
    "Em `TotalPrice`, ainda podemos observar a presença de valores negativos referentes a mecanismos financeiros constantes no conjunto de dados, além de valores zerados por conta da ausência de dados em `UnitPrice`. Dessa forma, prosseguiremos tratando os dados e removendo esses registros."
   ]
  },
  {
   "cell_type": "code",
   "execution_count": null,
   "id": "811f8a27-62b4-42b3-a4b1-d5912e729d4b",
   "metadata": {},
   "outputs": [],
   "source": [
    "# Remove valores com TotalPrice zerado ou negativo.\n",
    "df = df[df['TotalPrice']>0]"
   ]
  },
  {
   "cell_type": "code",
   "execution_count": null,
   "id": "18953b42-0141-431f-8057-4f5e8c5eb429",
   "metadata": {},
   "outputs": [],
   "source": [
    "# Ordena os dados por UnitPrice.\n",
    "df.sort_values('UnitPrice', ascending=False).head()"
   ]
  },
  {
   "cell_type": "markdown",
   "id": "d42f5e02-1581-4f99-a880-4cc5491ba64c",
   "metadata": {},
   "source": [
    "Observamos que alguns `StockCode` se comportam de maneira diferente. `AmazonFee`, `B`, `Post` e `Dot`, por exemplo, são identificadores para soluções específicas da plataforma ou mecanismos financeiros, que não interessam para a transação dos itens. Dessa forma, iremos identificar e remover essas informações do conjunto de dados, para que esse esteja precisamente preenchido apenas com informações referentes aos itens em disposição na plataforma.\n",
    "\n",
    "Para tanto, criaremos um **regex** para identificar os registros de `StockCode` que contenham um caractere de início."
   ]
  },
  {
   "cell_type": "code",
   "execution_count": null,
   "id": "e0fedaed-ea6b-491a-9a59-4316b2d91097",
   "metadata": {},
   "outputs": [],
   "source": [
    "# Importa a biblioteca regex.\n",
    "import re\n",
    "\n",
    "# Identifica o StockCode que combina com o regex (não começa com um dígito).\n",
    "df[df['StockCode'].str.match(re.compile(r'^[^\\d]'))]['StockCode'].value_counts().head(10)"
   ]
  },
  {
   "cell_type": "code",
   "execution_count": null,
   "id": "6bdeee37-56f2-4b7a-95dc-de6260a8edab",
   "metadata": {},
   "outputs": [],
   "source": [
    "'''\n",
    "Remove registros em que StockCode não começa com um dígito.\n",
    "\n",
    "Em geral, StockCodes que não começam com dígitos são referentes a serviços especiais da plataforma, como taxas de entrega ou bancárias, \n",
    "ou até mesmo descrições inseridas fora do campo correto.\n",
    "'''\n",
    "df = df[~df['StockCode'].str.match(re.compile(r'^[^\\d]'))]"
   ]
  },
  {
   "cell_type": "markdown",
   "id": "2fb48ef0-5907-4fae-a66e-ecc068e767ad",
   "metadata": {},
   "source": [
    "### 2.3 Remoção de outliers (cálculo de z_score)"
   ]
  },
  {
   "cell_type": "code",
   "execution_count": null,
   "id": "abf90d2f-3510-413c-8da3-569fed6c94ef",
   "metadata": {
    "scrolled": true
   },
   "outputs": [],
   "source": [
    "# Ordena os dados por TotalPrice.\n",
    "df.sort_values('TotalPrice', ascending=False).head()"
   ]
  },
  {
   "cell_type": "markdown",
   "id": "63a1bd2a-08d1-45ed-ac03-e49a9106678c",
   "metadata": {},
   "source": [
    "Ao ordenarmos o conjunto de dados pelo preço total da venda dos itens, encontramos valores completamente divergentes aos observados no modelo geral dos dados. Portanto, podemos aferir que existem **outliers** no nosso banco de dados, dados muito superiores ou inferiores aos padrões do conjunto, que podem por si próprios interferir nos números da análise.\n",
    "\n",
    "Dessa maneira, prosseguiremos com o tratamento desses dados e os removeremos utilizando a ferramenta **z_score**, com base no `TotalPrice` dos produtos."
   ]
  },
  {
   "cell_type": "code",
   "execution_count": null,
   "id": "b4ff62b7-65c5-4cb9-9dda-6d4a2e091bf1",
   "metadata": {},
   "outputs": [],
   "source": [
    "# Importa a biblioteca stats.\n",
    "from scipy import stats as st\n",
    "\n",
    "# Remove os valores que contenham z_score igual ou maior que 3.\n",
    "outliers_removed = df[(np.abs(st.zscore(df['TotalPrice'])) < 3)].drop_duplicates()"
   ]
  },
  {
   "cell_type": "code",
   "execution_count": null,
   "id": "95edb974-9fed-44a5-bc55-f16d66f68b57",
   "metadata": {},
   "outputs": [],
   "source": [
    "# Ordena os dados por Quantity (crescente).\n",
    "outliers_removed.sort_values('Quantity', ascending=False).head()"
   ]
  },
  {
   "cell_type": "code",
   "execution_count": null,
   "id": "f1d18a78-0089-4b8d-888f-522cbdbabb89",
   "metadata": {},
   "outputs": [],
   "source": [
    "# Ordena os dados por UnitPrice (crescente).\n",
    "outliers_removed.sort_values('UnitPrice', ascending=False).head()"
   ]
  },
  {
   "cell_type": "code",
   "execution_count": null,
   "id": "7230537d-035b-4b63-a251-4265d75fcf70",
   "metadata": {},
   "outputs": [],
   "source": [
    "# Ordena os dados por TotalPrice (crescente).\n",
    "outliers_removed.sort_values('TotalPrice', ascending=False).head()"
   ]
  },
  {
   "cell_type": "markdown",
   "id": "d3af3490-3c63-4b7e-92d2-6c46d3e0fb9b",
   "metadata": {},
   "source": [
    "Nas colunas `Quantity`, `UnitPrice` e, consequentemente, `TotalPrice`, podemos observar que seus valores agora se comportam de maneira padronizada, refletindo o que uma grande distribuição de compras deveria informar sobre o conjunto de dados."
   ]
  },
  {
   "cell_type": "code",
   "execution_count": null,
   "id": "0bb36077-e554-476c-85a9-e4d4266c3c09",
   "metadata": {},
   "outputs": [],
   "source": [
    "# Copia as informações para a tabela final.\n",
    "df_final = outliers_removed.copy()\n",
    "df_final.shape"
   ]
  },
  {
   "cell_type": "code",
   "execution_count": null,
   "id": "0a4c5c99-4e9e-450a-85eb-293c430d8337",
   "metadata": {},
   "outputs": [],
   "source": [
    "# Exibe informações da tabela final.\n",
    "df_final.info()"
   ]
  },
  {
   "cell_type": "code",
   "execution_count": null,
   "id": "658f9a2a-1a01-46cd-9875-30cf3975862c",
   "metadata": {},
   "outputs": [],
   "source": [
    "# Salva as informações da tabela final em um novo arquivo csv.\n",
    "df_final.to_csv('./datasets/ecommerce_dataset_us_final.csv', index=False)"
   ]
  },
  {
   "cell_type": "markdown",
   "id": "f27e1b98-1e17-4776-afdd-2508884d0089",
   "metadata": {},
   "source": [
    "Em síntese, concluímos a etapa de pré-processamento e tratamento dos dados, com um total de 522.046 registros distribuídos em 11 categorias, a serem analisadas nos gráficos e testes do material a seguir, gerando um arquivo com o tamanho total de cerca de 40 MB.\n",
    "\n",
    "Todos os formatos e tipos de informações estão devidamente correspondentes à característica identificada por sua coluna, não contendo informações nulas ou duplicadas no conjunto de dados, fora os IDs de clientes que, por não terem seu número de identificação informado, foram atribuídos com o valor `zero`.\n",
    "\n",
    "---"
   ]
  },
  {
   "cell_type": "markdown",
   "id": "bc897e57-c8e3-4b9b-8ac3-ad1845e6ab05",
   "metadata": {},
   "source": [
    "## 3. Análise Exploratória dos Dados (EDA)\n",
    "\n",
    "Após concluirmos a etapa de pré-processamento e de tratamento dos dados e gerarmos o arquivo final com os dados tratados, iniciamos a etapa da análise exploratória dos dados, na qual pretendemos obter informações sobre o comportamento e os perfis de usuários que fazem parte do sistema, desenhando e visualizando gráficos e analisando números e hipóteses referentes aos seus comportamentos."
   ]
  },
  {
   "cell_type": "code",
   "execution_count": null,
   "id": "2a820547-5ba8-4f01-9ef3-7c87cacdbe5f",
   "metadata": {},
   "outputs": [],
   "source": [
    "# Conta os produtos mais registrados em Description.\n",
    "df_final['Description'].value_counts().head()"
   ]
  },
  {
   "cell_type": "code",
   "execution_count": null,
   "id": "2d1c17ed-2e0d-4eb1-936c-1a408694071a",
   "metadata": {},
   "outputs": [],
   "source": [
    "# Apresenta os produtos mais vendidos.\n",
    "df_final.groupby('Description')['Quantity'].sum().sort_values(ascending=False).head()"
   ]
  },
  {
   "cell_type": "markdown",
   "id": "bd366317-8edc-49f1-a12f-07bec01feaa5",
   "metadata": {},
   "source": [
    "De início, observamos que os produtos com a maior presença nas vendas do conjunto de dados foram `WHITE HANGING HEART T-LIGHT HOLDER`, `JUMBO BAG RED RETROSPOT` e `REGENCY CAKESTAND 3 TIER`. Não necessriamente foram esses os produtos mais vendidos, mas foram os que mais estiveram presentes em compras únicas na plataforma.\n",
    "\n",
    "Já observando os produtos mais vendidos (dessa vez levando em conta a quantidade total de itens vendidos), `WORLD WAR 2 GLIDERS ASSTD DESIGNS`, `JUMBO BAG RED RETROSPOT` e `PACK OF 72 RETROSPOT CAKE CASES` foram os itens mais populares dentre as vendas da plataforma."
   ]
  },
  {
   "cell_type": "code",
   "execution_count": null,
   "id": "26d08085-f58f-4d6c-bdcb-f36bad9efb2e",
   "metadata": {},
   "outputs": [],
   "source": [
    "# Número de vendas diárias na plataforma\n",
    "df_final.groupby('Date')['InvoiceNo'].count().sort_values(ascending=False).head()"
   ]
  },
  {
   "cell_type": "markdown",
   "id": "b9b8ac84-cb8d-4a5b-ae6e-866c8f700c2f",
   "metadata": {},
   "source": [
    "Em relação aos números de vendas diárias, o dia **3 de dezembro de 2019** foi o mais popular da plataforma, com um total de 5.240 vendas registradas naquele dia. Em termos gerais, podemos observar que os cinco dias mais populares de vendas foram registrados no final do ano de 2019. Portanto, podemos identificar um padrão de comportamento dentro do sistema, no qual as vendas registradas no final do período em análise foram as mais populares do estudo.\n",
    "\n",
    "Vamos observar essa informação de maneira gráfica, separando coortes mensais das vendas dos produtos e exibindo gráficos referentes ao número de pedidos realizados mensalmente e o volume médio das compras no período."
   ]
  },
  {
   "cell_type": "code",
   "execution_count": null,
   "id": "f2935a4a-0181-4926-ae1b-ad353f10db7d",
   "metadata": {},
   "outputs": [],
   "source": [
    "# Coorte mensal com o valor geral de cada pedido.\n",
    "cohort_order_month = df_final.groupby(['Month', 'InvoiceNo'])['TotalPrice'].sum().reset_index()"
   ]
  },
  {
   "cell_type": "code",
   "execution_count": null,
   "id": "1f618ab2-ee1e-4d67-8632-6397c82dbed1",
   "metadata": {},
   "outputs": [],
   "source": [
    "# Plota o gráfico com o número de pedidos realizados por mês.\n",
    "cohort_order_month.groupby('Month')['InvoiceNo'].count().plot(kind='bar', color='#66c2a5')\n",
    "plt.title('Número de pedidos mensais')\n",
    "plt.xlabel('')\n",
    "plt.ylabel('Nº de pedidos')\n",
    "\n",
    "plt.xticks(rotation=45)\n",
    "plt.grid(axis='y', linestyle='--', alpha=0.5)\n",
    "plt.show()"
   ]
  },
  {
   "cell_type": "code",
   "execution_count": null,
   "id": "b3a633d9-2c0c-475c-a0e9-1b36c6cae0a1",
   "metadata": {},
   "outputs": [],
   "source": [
    "# Plota o gráfico com o valor médio dos pedidos realizados por mês.\n",
    "cohort_order_month.groupby('Month')['TotalPrice'].mean().plot(kind='bar', color='#fc8d62')\n",
    "plt.title('Valor médio mensal dos pedidos')\n",
    "plt.xlabel('')\n",
    "plt.ylabel('Valor médio ($)')\n",
    "\n",
    "plt.xticks(rotation=45)\n",
    "plt.grid(axis='y', linestyle='--', alpha=0.5)\n",
    "plt.show()"
   ]
  },
  {
   "cell_type": "markdown",
   "id": "b88839fd-4187-48f4-a0f4-22d50b1b4a8b",
   "metadata": {},
   "source": [
    "Em um primeiro momento, observamos que o maior número de compras realmente foi realizado ao final do período de estudo, no mês de novembro de 2019, atingindo quase 3.000 compras registradas naqueles mês. O segundo mês com mais compras do estudo, e o primeiro a superar a marca de 2.000 compras mensais, foi o mês anterior, de outubro de 2019.\n",
    "\n",
    "Em termos de valor médio das compras no recorte mensal, o mês de dezembro de 2019 foi o que apresentou maior valor, atingindo quase $550 por pedido, apesar de apenas parte dele compor o período do estudo. Em destaque, os meses de agosto, setembro e outubro do mesmo ano também apresentaram um número significativo no valor médio de compras no período.\n",
    "\n",
    "Já novembro de 2019, mês que teve o maior número de compras totais, também apresentou bons números no valor médio das compras."
   ]
  },
  {
   "cell_type": "markdown",
   "id": "4e7cd14e-a321-406a-9530-4d4cee2e4d0a",
   "metadata": {},
   "source": [
    "### 3.1 Segmentação de perfis de compras\n",
    "\n",
    "Para a próxima análise, iremos observar o comportamento dos usuários na plataforma, dentre horários de compras e dias da semana que demandam maior fluxo de pedidos."
   ]
  },
  {
   "cell_type": "code",
   "execution_count": null,
   "id": "cfbc0a1c-c5de-4ea4-b9e9-5f888a1b0bfc",
   "metadata": {},
   "outputs": [],
   "source": [
    "# Obtém o valor inicial das informações de cada pedido.\n",
    "df_grouped = df_final.groupby('InvoiceNo').first()\n",
    "\n",
    "# Remove colunas que não contém dados temporais das compras.\n",
    "df_grouped = df_grouped.drop(columns=['StockCode', 'Description', 'Quantity', 'UnitPrice'])\n",
    "\n",
    "# Calcula o valor total de cada compra única.\n",
    "df_grouped['TotalPrice'] = df_final.groupby('InvoiceNo')['TotalPrice'].sum()"
   ]
  },
  {
   "cell_type": "code",
   "execution_count": null,
   "id": "3e364c2c-5168-4321-8f12-6028b02fe071",
   "metadata": {},
   "outputs": [],
   "source": [
    "# Observação dos dados isolados\n",
    "df_grouped.head()"
   ]
  },
  {
   "cell_type": "markdown",
   "id": "bdbbedc6-504b-40ed-9900-aeb266463a01",
   "metadata": {},
   "source": [
    "Separaremos coortes contendo informações sobre os horários das compras, dias da semana e os meses do ano, contando o número total de pedidos feitos naquele período e o número de usuários unívocos que realizaram as compras."
   ]
  },
  {
   "cell_type": "code",
   "execution_count": null,
   "id": "897adafa-7311-43a7-bc28-449f01920314",
   "metadata": {},
   "outputs": [],
   "source": [
    "# Separa coortes de hora, dia da semana e mês dos pedidos. Conta o nº de pedidos feitos e o nº de usuários distintos.\n",
    "cohort_hour = df_grouped.groupby('Hour').agg({'CustomerID': ['count', 'nunique']})\n",
    "cohort_wday = df_grouped.groupby('WeekDay').agg({'CustomerID': ['count', 'nunique']})\n",
    "cohort_month = df_grouped.groupby('Month').agg({'CustomerID': ['count', 'nunique']})"
   ]
  },
  {
   "cell_type": "code",
   "execution_count": null,
   "id": "97db03b0-0eaa-4a85-b373-57f29cf814fa",
   "metadata": {
    "scrolled": true
   },
   "outputs": [],
   "source": [
    "# Ajusta os nomes das colunas.\n",
    "cohort_hour.columns = ['n_orders', 'n_users']\n",
    "cohort_wday.columns = ['n_orders', 'n_users']\n",
    "cohort_month.columns = ['n_orders', 'n_users']"
   ]
  },
  {
   "cell_type": "code",
   "execution_count": null,
   "id": "473bb237-d4f8-4fd3-b134-7e4704df5456",
   "metadata": {},
   "outputs": [],
   "source": [
    "# Plota o gráfico referente ao número de pedidos para cada hora do dia.\n",
    "cohort_hour['n_orders'].plot(kind='bar', color='#8da0cb')\n",
    "plt.title('Horários das compras')\n",
    "plt.xlabel('Hora do dia (h)')\n",
    "plt.ylabel('Nº de pedidos')\n",
    "\n",
    "plt.xticks(rotation=0)\n",
    "plt.grid(axis='y', linestyle='--', alpha=0.5)\n",
    "plt.show()"
   ]
  },
  {
   "cell_type": "markdown",
   "id": "e45ef788-9e62-44d5-bac7-38e70e69a9b1",
   "metadata": {},
   "source": [
    "Analisando o comportamento dos usuários na plataforma em relação ao horário das compras, observamos que o maior número de pedidos foi realizado às 12h, superando a marcar de 3.000 compras feitas nesse horário. O segundo horário com mais compras foi às 13h, determinando que a maioria dos pedidos são realizados no intervalo de almoço dos usuários.\n",
    "\n",
    "Outro detalhe notável é que as compras foram feitas entre às 6h e 21h. Não existem pedidos feitos durante tarde da noite ou durante a madrugada."
   ]
  },
  {
   "cell_type": "code",
   "execution_count": null,
   "id": "6b7d063c-604e-45ad-8774-6cb833e38ef4",
   "metadata": {},
   "outputs": [],
   "source": [
    "# Plota o gráfico referente ao número de pedidos por dia da semana.\n",
    "cohort_wday['n_orders'].plot(kind='bar', color='#e78ac3')\n",
    "plt.title('Total de compras por dia da semana')\n",
    "plt.xlabel('')\n",
    "plt.ylabel('Nº de pedidos')\n",
    "\n",
    "plt.xticks(ticks=cohort_wday.index, labels=['Seg', 'Ter', 'Qua', 'Qui', 'Sex', 'Sáb'], rotation=0) # Define os dias da semana como rótulos de x.\n",
    "plt.grid(axis='y', linestyle='--', alpha=0.5)\n",
    "plt.show()"
   ]
  },
  {
   "cell_type": "markdown",
   "id": "aae8170f-8035-4ede-aaa1-5212c123935b",
   "metadata": {},
   "source": [
    "Em relação aos dias das compras, sexta-feira superou a marca de 4.000 pedidos realizados naquele dia da semana, sendo o dia de maior demanda dos usuários. Podemos determinar que os usuários deixam para realizar mais compras entre quarta e sexta-feira, efetuando poucas compras na segunda-feira. Sábado apresenta valores superiores a 3.000 compras diárias, registrando demanda razoável da plataforma, assim como quarta-feira.\n",
    "\n",
    "Cabe destacar que não temos registros de compras realizadas no domingo em nosso conjunto de dados."
   ]
  },
  {
   "cell_type": "code",
   "execution_count": null,
   "id": "bce44ffd-dcb1-43a7-918d-a1bf7263e61e",
   "metadata": {},
   "outputs": [],
   "source": [
    "# Plota o gráfico referente ao número de usuários distintos por mês.\n",
    "cohort_month['n_users'].plot(kind='bar', color='#a6d854')\n",
    "plt.title('Uso mensal do produto')\n",
    "plt.xlabel('')\n",
    "plt.ylabel('Nº de usuários mensais')\n",
    "\n",
    "plt.xticks(rotation=45)\n",
    "plt.grid(axis='y', linestyle='--', alpha=0.5)\n",
    "plt.show()"
   ]
  },
  {
   "cell_type": "markdown",
   "id": "e6b3c096-ad32-47fb-83e0-74a2eccbd6c9",
   "metadata": {},
   "source": [
    "Mais uma vez identificamos que o grande número de compras dos usuários é observado no mês de novembro de 2019. No caso em tela, esse mês registrou a maior quantidade de compras de usuários distintos, rerpesentando a maior quantidade de acessos dos usuários à plataforma. Entre os meses de junho e agosto, notamos também uma queda na quantidade de usuários distintos que realizaram compras.\n",
    "\n",
    "Para a sequência da análise, utilizaremos parte do conjunto de dados, removendo os usuários que não contêm registro de identificação. Conforme trabalhamos com informações específicas de cada usuário, estando o número de identificação do usuário ausente, faz-se necessário o descarte desses usuários para o decorrer do estudo."
   ]
  },
  {
   "cell_type": "code",
   "execution_count": null,
   "id": "d0e66435-4ae1-4802-9485-3bc627add2d5",
   "metadata": {},
   "outputs": [],
   "source": [
    "# Remove usuários que não contêm registro de identificação.\n",
    "df_orders = df_grouped[df_grouped['CustomerID']!=0]\n",
    "df_orders.reset_index(inplace=True)"
   ]
  },
  {
   "cell_type": "code",
   "execution_count": null,
   "id": "c7179657-251a-4a26-b755-382776efe14e",
   "metadata": {},
   "outputs": [],
   "source": [
    "# Captura o primeiro dia de compra de cada usuário.\n",
    "first_order = df_orders.groupby('CustomerID')['Date'].min()"
   ]
  },
  {
   "cell_type": "code",
   "execution_count": null,
   "id": "a84e5270-b688-4aa2-8d20-93146601721b",
   "metadata": {},
   "outputs": [],
   "source": [
    "# Registra a informação do primeiro dia de compra na tabela de dados.\n",
    "df_orders = df_orders.join(first_order.rename('FirstOrder'), on='CustomerID').drop_duplicates()"
   ]
  },
  {
   "cell_type": "code",
   "execution_count": null,
   "id": "04564ad5-3ab6-411b-aa42-e40eb3e6398d",
   "metadata": {},
   "outputs": [],
   "source": [
    "# Observação geral dos dados\n",
    "df_orders.head()"
   ]
  },
  {
   "cell_type": "markdown",
   "id": "c7d3cfce-a60d-4837-ac15-703852aef7d9",
   "metadata": {},
   "source": [
    "### 3.2 Lifetime Value (LTV) dos usuários\n",
    "\n",
    "O lifetime value (LTV) identifica a fidelização dos clientes à plataforma. Ele registra o ciclo de vida do cliente, representando o valor gerado por cada perfil de cliente que utiliza o sistema, abrindo a possibilidade de criarmos produtos e programas de fidelidade para clientes que consomem mais produtos.\n",
    "\n",
    "Para essa análise, iremos separar os perfis de clientes em relação à data de sua primeira compra, identificando mensalmente o valor gerado durante o período em estudo."
   ]
  },
  {
   "cell_type": "code",
   "execution_count": null,
   "id": "b526ef3a-9bbd-4fea-b5e8-8054fa9b8eab",
   "metadata": {},
   "outputs": [],
   "source": [
    "# Calcula o lifetime value (LTV) médio dos clientes\n",
    "ltv = df_orders.groupby('CustomerID')['TotalPrice'].sum().mean()\n",
    "print(f'Lifetime Value (LTV) médio dos clientes: ${ltv:.2f}')"
   ]
  },
  {
   "cell_type": "code",
   "execution_count": null,
   "id": "500f1c26-137b-413f-96ac-70186d68e9d8",
   "metadata": {},
   "outputs": [],
   "source": [
    "# Calcula o LTV gerado por cada cliente. Vamos gerar uma tabela com esses dados.\n",
    "ltv_customers = df_orders.groupby('CustomerID')['TotalPrice'].sum().reset_index()\n",
    "ltv_customers.head()"
   ]
  },
  {
   "cell_type": "code",
   "execution_count": null,
   "id": "3b2a4452-c6a0-40da-82c7-f46037fddf04",
   "metadata": {},
   "outputs": [],
   "source": [
    "# Separa o primeiro mês de compra do cliente.\n",
    "first_month = df_orders.groupby('CustomerID')['Month'].min().reset_index()\n",
    "first_month.head()"
   ]
  },
  {
   "cell_type": "code",
   "execution_count": null,
   "id": "ceeae462-002b-4cd2-bf2d-f82e51a1e118",
   "metadata": {},
   "outputs": [],
   "source": [
    "# Realiza o merge entre as tabelas.\n",
    "ltv_customers = ltv_customers.merge(first_month, on='CustomerID')\n",
    "ltv_customers.head()"
   ]
  },
  {
   "cell_type": "code",
   "execution_count": null,
   "id": "6e9b3f6e-9dc5-4e3c-afdd-0ce2373ce270",
   "metadata": {},
   "outputs": [],
   "source": [
    "# Agrupa e calcula o LTV médio do grupo de clientes de cada mês.\n",
    "ltv_month = ltv_customers.groupby('Month')['TotalPrice'].mean().reset_index()\n",
    "ltv_month.head()"
   ]
  },
  {
   "cell_type": "code",
   "execution_count": null,
   "id": "c3a7e649-268b-443a-a36e-88fb32753cea",
   "metadata": {},
   "outputs": [],
   "source": [
    "# Ajusta a identificação do período para o formato de comparação.\n",
    "ltv_month['Month'] = ltv_month['Month'].dt.strftime('%m-%Y')"
   ]
  },
  {
   "cell_type": "code",
   "execution_count": null,
   "id": "4f6d92aa-ed5a-4dcb-8455-a53921c5618a",
   "metadata": {},
   "outputs": [],
   "source": [
    "# Plota a distribuição do LTV médio mensal pelo mês da primeira compra.\n",
    "plt.figure(figsize=(12, 3))\n",
    "plt.plot(ltv_month['Month'], ltv_month['TotalPrice'], marker='o', color='royalblue')\n",
    "\n",
    "plt.title('LTV médio por mês da primeira compra')\n",
    "plt.xlabel('')\n",
    "plt.ylabel('LTV médio ($)')\n",
    "plt.grid(True, linestyle='--', alpha=0.5)\n",
    "plt.xticks(rotation=45)\n",
    "plt.show()"
   ]
  },
  {
   "cell_type": "markdown",
   "id": "6875649b-c84c-42c3-b90f-b6dd0cebe432",
   "metadata": {},
   "source": [
    "Em uma observação inicial dos dados de LTV, vimos que o LTV médio gerado pelos clientes da plataforma foi de cerca de $1.800 no período.\n",
    "\n",
    "Em termos de distribuição de perfil pelo primeiro mês de compra de cada cliente, os usuários que realizaram a primeira compra em novembro de 2018 registraram quase 6.000 de LTV, sendo o perfil de grande destaque da plataforma. No mês seguinte, os usuários que realizaram a primeira compra registraram um LTV de 4.000. Os valores passam a cair conforme os usuários realizam sua primeira compra ao longo dos meses, se mantendo constante em torno dos 1.000 de LTV a partir de abril de 2019."
   ]
  },
  {
   "cell_type": "code",
   "execution_count": null,
   "id": "87ceb309-a6a7-4d13-a3e2-a5f818abfb0e",
   "metadata": {},
   "outputs": [],
   "source": [
    "# Ajusta o nome da tabela do primeiro mês de compra.\n",
    "first_month = first_month.rename(columns={'Month': 'FirstMonth'})\n",
    "first_month.head()"
   ]
  },
  {
   "cell_type": "code",
   "execution_count": null,
   "id": "e887e7a8-e40d-4faf-8efe-7351c284020f",
   "metadata": {},
   "outputs": [],
   "source": [
    "# Realiza o merge do primeiro mês na tabela de pedidos.\n",
    "df_orders = df_orders.merge(first_month, on='CustomerID')"
   ]
  },
  {
   "cell_type": "code",
   "execution_count": null,
   "id": "a9d4fb11-408b-475d-8c80-02b02836ad25",
   "metadata": {},
   "outputs": [],
   "source": [
    "df_orders.head()"
   ]
  },
  {
   "cell_type": "code",
   "execution_count": null,
   "id": "6f07b969-4a70-43f8-8c6b-da35b288f1c7",
   "metadata": {},
   "outputs": [],
   "source": [
    "# Cria uma coluna para a diferença entre o mês da atual compra e o primeiro mês.\n",
    "df_orders['Age'] = df_orders['Month'].astype('int64') - df_orders['FirstMonth'].astype('int64')"
   ]
  },
  {
   "cell_type": "code",
   "execution_count": null,
   "id": "96b64429-879e-4bef-8ede-bd55a777baa3",
   "metadata": {},
   "outputs": [],
   "source": [
    "# Gera os tamanhos de coorte para cada primeiro mês de compra.\n",
    "cohort_sizes = df_orders.groupby('FirstMonth').agg({'CustomerID': 'nunique'}).reset_index()\n",
    "cohort_sizes = cohort_sizes.rename(columns={'CustomerID': 'Customers'})"
   ]
  },
  {
   "cell_type": "code",
   "execution_count": null,
   "id": "1390cac1-c33b-4fe4-95bd-7ba4c9335f1e",
   "metadata": {},
   "outputs": [],
   "source": [
    "# Separa as coortes por mês da primeira compra e soma sua receita após cada mês.\n",
    "cohorts = df_orders.groupby(['FirstMonth', 'Age']).agg({'TotalPrice': 'sum'}).reset_index()"
   ]
  },
  {
   "cell_type": "code",
   "execution_count": null,
   "id": "d46b86ea-73ac-4fbc-bc61-121fbac124ec",
   "metadata": {},
   "outputs": [],
   "source": [
    "# Merge com o tamanho das coortes para calcular o LTV. Cria uma tabela do relatório.\n",
    "report = cohorts.merge(cohort_sizes, on='FirstMonth')\n",
    "\n",
    "# Calcula o LTV acumulado para cada mês.\n",
    "report['LTV'] = report['TotalPrice'] / report['Customers']"
   ]
  },
  {
   "cell_type": "code",
   "execution_count": null,
   "id": "3a3cfefc-4b24-45aa-9625-306732b390ef",
   "metadata": {},
   "outputs": [],
   "source": [
    "# Gera uma pivot table com os dados do LTV por coorte.\n",
    "result = report.pivot_table(\n",
    "    index='FirstMonth',\n",
    "    columns='Age',\n",
    "    values='LTV',\n",
    "    aggfunc='mean'\n",
    ").cumsum(axis=1)"
   ]
  },
  {
   "cell_type": "code",
   "execution_count": null,
   "id": "a1f1f3eb-31fb-43f0-b1b6-3bb33e9b1e4c",
   "metadata": {},
   "outputs": [],
   "source": [
    "# Plota o gráfico de LTV por coorte em um heatmap.\n",
    "plt.figure(figsize=(17, 6))\n",
    "sns.heatmap(result, annot=True, fmt='.3f', linewidths=1, linecolor='gray', cmap='viridis')\n",
    "plt.title(\"LTV por coorte\")\n",
    "plt.xlabel(\"Nº de meses desde a primeira compra\")\n",
    "plt.ylabel(\"Coorte (mês da primeira compra)\")\n",
    "plt.show()"
   ]
  },
  {
   "cell_type": "markdown",
   "id": "3f0cf58e-1631-45b0-b01c-0e5ab8c8b3d7",
   "metadata": {},
   "source": [
    "No cálculo do LTV médio gerado pelo perfil de clientes que realizaram sua primeira compra por cada mês, observamos novamente que os clientes que realizaram a primeira compra em **novembro de 2018** geraram maior valor para o negócio, com um LTV médio de $5.785 gerado por cliente ao final do estudo.\n",
    "\n",
    "Já em relação ao melhor LTV médio gerado em seu primeiro mês, os clientes que realizaram a primeira compra em setembro de 2019 produziram o melhor valor inicial, de cerca de $513 por cada usuário. Porém, em observação ao segundo mês, os clientes de novembro e dezembro de 2018 ainda mantiveram destaque. Os clientes de novembro de 2018 **aumentaram em cerca de 84%** o seu LTV médio do primeiro para o segundo mês de compras.\n",
    "\n",
    "---"
   ]
  },
  {
   "cell_type": "markdown",
   "id": "3b8f41d8-d500-4ba3-bc76-8197a2a179fd",
   "metadata": {},
   "source": [
    "## 4. Análise RFM (Recência, Frequência e Monetário)\n",
    "\n",
    "A análise RFM é uma técnica de segmentação de clientes que quando aplicada nos ajuda a entender o comportamento de compras dos clientes com base em três métricas: **Recência** (quão recente foi a última compra do cliente), **Frequência** (quantas compras o cliente realizou no período aplicado) e Valor **Monetário** (quanto o cliente gastou no mesmo período).\n",
    "\n",
    "Por meio desses três fatores principais, podemos detectar quantitativamente quais clientes são os melhores, sendo capazes de segmentar o grupo de clientes e identificar diversos perfis, tais como: clientes campeões, clientes fieis, recentes, potenciais fieis, clientes em risco, dentre outros."
   ]
  },
  {
   "cell_type": "code",
   "execution_count": null,
   "id": "201f9dc4-8520-4f83-bd37-b6ea95f82658",
   "metadata": {},
   "outputs": [],
   "source": [
    "# Agrupa os dados para cada cliente, marcando a data mais recente de compra, contagem de pedidos e o somatório de valor dos pedidos.\n",
    "rfm = df_orders.groupby('CustomerID').agg({\n",
    "    'Date': 'last',\n",
    "    'InvoiceNo': 'count',\n",
    "    'TotalPrice': 'sum'\n",
    "})\n",
    "\n",
    "# Renomeia as colunas do quadro RFM.\n",
    "rfm.columns = ['Recency', 'Frequency', 'Monetary']"
   ]
  },
  {
   "cell_type": "code",
   "execution_count": null,
   "id": "51dae5f6-fc64-4aca-ad61-2c7d7bfe92bb",
   "metadata": {},
   "outputs": [],
   "source": [
    "# Utiliza qcut para separar os valores em quantis e categorizá-los por label.\n",
    "rfm['R'] = pd.qcut(rfm['Recency'], 5, labels=[5,4,3,2,1]).astype(int) # Quanto menor o valor, melhor a classificação\n",
    "rfm['F'] = pd.qcut(rfm['Frequency'].rank(method='first'), 5, labels=[1,2,3,4,5]).astype(int)\n",
    "rfm['M'] = pd.qcut(rfm['Monetary'], 5, labels=[1,2,3,4,5]).astype(int)"
   ]
  },
  {
   "cell_type": "code",
   "execution_count": null,
   "id": "c5f0deff-82a6-4258-9b0e-1b3d9bba8556",
   "metadata": {},
   "outputs": [],
   "source": [
    "# Concatena os valores em uma string com a atribuição de RFM.\n",
    "rfm['RFM'] = rfm['R'].astype(str) + rfm['F'].astype(str) + rfm['M'].astype(str)"
   ]
  },
  {
   "cell_type": "code",
   "execution_count": null,
   "id": "bda39d6e-98a7-4865-b35b-e65160fbf8b2",
   "metadata": {},
   "outputs": [],
   "source": [
    "# Apresenta o quadro RFM ordenado.\n",
    "rfm.sort_values(by='RFM', ascending=False).head(10)"
   ]
  },
  {
   "cell_type": "markdown",
   "id": "13a2d478-277e-48a9-90c7-6ef020b82b76",
   "metadata": {},
   "source": [
    "Como podemos observar no quadro acima, temos 6 clientes que fazem parte do perfil campeão: clientes que compraram recentemente (estão ativos), compram com frequência e gastam muito nos pedidos. Esses são os clientes sobre os quais podemos trabalhar ofertas exclusivas, programas especiais e até mesmo disponibilizar produtos novos e exclusivos inicialmente para eles, como forma de manter a fidelidade desses clientes.\n",
    "\n",
    "Cada grupo de clientes classificados pelo valor de RFM representa um perfil específico de comportamento. Cabe apresentar os grupos e valores ao departamento de marketing para identificar estratégias de manutenção ou reaproximação, a depender do comportamento de cada perfil."
   ]
  },
  {
   "cell_type": "markdown",
   "id": "175a07f7-33db-442c-b824-42e3dd56f361",
   "metadata": {},
   "source": [
    "### 4.1 Faixa de elite (da análise RFM)\n",
    "\n",
    "Como exemplo, vamos definir um perfil de elite dentre os clientes do quadro da análise RFM. Para isso, atribuíremos ao grupo de elite clientes que contêm valores iguais ou maiores a 4 nas três categorias, ou seja, em todas as dimensões da análise."
   ]
  },
  {
   "cell_type": "code",
   "execution_count": null,
   "id": "b2fd052a-f1d9-4bf9-aa2a-8e6bc2359396",
   "metadata": {},
   "outputs": [],
   "source": [
    "# Filtra valores de R, F e M iguais ou maiores que 4.\n",
    "rfm_filter = rfm[(rfm['R'] >= 4) & (rfm['F'] >= 4) & (rfm['M'] >= 4)]"
   ]
  },
  {
   "cell_type": "code",
   "execution_count": null,
   "id": "d651202f-f936-4224-bbc9-32bf39b4d5fe",
   "metadata": {},
   "outputs": [],
   "source": [
    "# Cria a tabela com as informações a serem trabalhadas na análise do grupo.\n",
    "df_mode = (\n",
    "    df_orders[['CustomerID', 'Hour', 'WeekDay', 'Month', 'FirstOrder', 'FirstMonth']]\n",
    "    .groupby('CustomerID')\n",
    "    .agg(lambda x: x.mode().iat[0]) # Valor mais frequente de cada coluna em cada grupo. iat[0] garante o primeiro valor em caso de empate.\n",
    "    .reset_index()\n",
    ")"
   ]
  },
  {
   "cell_type": "code",
   "execution_count": null,
   "id": "ee139618-28d8-4725-be93-7cd53f5c186d",
   "metadata": {},
   "outputs": [],
   "source": [
    "# Junta as informações obtidas com a faixa de clientes de elite.\n",
    "rfm_filter = rfm_filter.merge(df_mode, how='left', on='CustomerID')"
   ]
  },
  {
   "cell_type": "code",
   "execution_count": null,
   "id": "f2fc9dab-70a7-45a8-951a-f28fdd4f05e7",
   "metadata": {},
   "outputs": [],
   "source": [
    "# Plota o gráfico dos meses de compras dos pedidos VIP.\n",
    "rfm_filter.groupby('Month')['CustomerID'].count().plot(kind='bar', color='#e5c494')\n",
    "plt.title('Clientes VIP: mês das compras')\n",
    "plt.xlabel('')\n",
    "plt.ylabel('Número de pedidos')\n",
    "\n",
    "plt.xticks(rotation=45)\n",
    "plt.grid(axis='y', linestyle='--', alpha=0.5)\n",
    "plt.show()"
   ]
  },
  {
   "cell_type": "code",
   "execution_count": null,
   "id": "d9a24624-9010-4f44-860a-08a4f3a2fada",
   "metadata": {},
   "outputs": [],
   "source": [
    "# Plota o gráfico dos dias da semana dos pedidos VIP.\n",
    "rfm_filter.groupby('WeekDay')['CustomerID'].count().plot(kind='bar', color='#e5c494')\n",
    "plt.title('Clientes VIP: dia da semana')\n",
    "plt.xlabel('')\n",
    "plt.ylabel('Número de pedidos')\n",
    "\n",
    "plt.xticks(ticks=cohort_wday.index, labels=['Seg', 'Ter', 'Qua', 'Qui', 'Sex', 'Sáb'], rotation=0) # Define os dias da semana como rótulos de x.\n",
    "plt.grid(axis='y', linestyle='--', alpha=0.5)\n",
    "plt.show()"
   ]
  },
  {
   "cell_type": "code",
   "execution_count": null,
   "id": "8b002658-1c10-4c90-a228-31f38a6ba6f6",
   "metadata": {},
   "outputs": [],
   "source": [
    "# Plota o gráfico dos horários de compras dos pedidos VIP.\n",
    "rfm_filter.groupby('Hour')['CustomerID'].count().plot(kind='bar', color='#e5c494')\n",
    "plt.title('Clientes VIP: horário de compras')\n",
    "plt.xlabel('')\n",
    "plt.ylabel('Número de pedidos')\n",
    "\n",
    "plt.xticks(rotation=0)\n",
    "plt.grid(axis='y', linestyle='--', alpha=0.5)\n",
    "plt.show()"
   ]
  },
  {
   "cell_type": "markdown",
   "id": "bcf38e0d-2375-4464-91ab-86adbcd34367",
   "metadata": {},
   "source": [
    "Sendo assim, podemos identificar que os clientes da nossa faixa de elite efetuaram a maior parte das compras nos meses de dezembro de 2018 e janeiro de 2019 (em períodos festivos). O dia da semana com maior quantidade de compras desses clientes foi segunda-feira, divergindo da informação obtida anteriormente de que os clientes em geral fazem menos compras na segunda, seguido pela quinta-feira.\n",
    "\n",
    "Em relação aos horários de compras, os clientes da faixa de elite fazem mais compras de manhã, por volta das 10h da manhã. O segundo horário com mais compras é o mesmo dos demais clientes em geral: meio-dia (ou 12h).\n",
    "\n",
    "Com essas informações em mãos, podemos trabalhar ofertas exclusivas a serem lançadas para a faixa de elite às 10h de segunda-feira, horário e data em que esses clientes fazem mais compras dentro da plataforma. Ou que tal na quinta-feira ao meio-dia? Podemos transmitir essas informações ao departamento de marketing para planejar o procedimento ideal para a divulgação dessas promoções.\n",
    "\n",
    "---"
   ]
  },
  {
   "cell_type": "markdown",
   "id": "3bcb87aa-4a63-4eac-b3b4-8c28ca96ab9c",
   "metadata": {},
   "source": [
    "## 5. Testes de hipóteses\n",
    "\n",
    "Para finalizar nossa análise, vamos aplicar algumas hipóteses ao conjunto de dados e observar se existem grandes divergências dentre os grupos de amostras.\n",
    "\n",
    "- **Hipótese 1:** Não há diferença no volume médio de compras dos clientes registrados nos primeiros 7 meses do estudo e os registrados nos últimos 7 meses.\n",
    "- **Hipótese 2:** Não há diferença no volume médio entre as compras feitas de manhã e as feitas à tarde.\n",
    "- **Hipótese 3:** Não há diferença no volume médio entre as compras feitas para as festas de fim de ano e as feitas no restante do ano.\n",
    "\n",
    "Inicialmente, vamos identificar se o agrupamento de dados registra uma distribuição normal ou assimétrica, observando o gráfico de distribuição abaixo referente ao preço total dos pedidos do conjunto de dados."
   ]
  },
  {
   "cell_type": "code",
   "execution_count": null,
   "id": "144c7daa-85b9-4b57-bc00-097170e531ef",
   "metadata": {},
   "outputs": [],
   "source": [
    "sns.histplot(df_orders['TotalPrice'], kde=True, bins=100)\n",
    "plt.title('Distribuição de TotalPrice')\n",
    "plt.show()"
   ]
  },
  {
   "cell_type": "markdown",
   "id": "b051efab-4601-4c7a-9f2a-581ea93cf73c",
   "metadata": {},
   "source": [
    "Por conta da dispersão entre os valores totais de compra de cada cliente, observamos que nossa distribuição é fortemente assimétrica à direita, contendo valores muito próximos de zero e pouquíssimos valores mais altos. Portanto, temos uma distribuição não normal e trabalharemos para as hipóteses a seguir o Teste U de Mann-Whitney, para verificar se as amostras de cada hipótese apresentada são significativamente diferentes."
   ]
  },
  {
   "cell_type": "markdown",
   "id": "e84402f9-f06f-41d3-b4c6-c4b4dd04725f",
   "metadata": {},
   "source": [
    "### 5.1 Hipótese 1: Não há diferença no volume médio de compras dos clientes registrados nos primeiros 7 meses do estudo e os registrados nos últimos 7 meses."
   ]
  },
  {
   "cell_type": "code",
   "execution_count": null,
   "id": "84238da4-eb4e-4af7-973d-a1132503acde",
   "metadata": {},
   "outputs": [],
   "source": [
    "# Importa a biblioteca do teste U de Mann-Whitney.\n",
    "from scipy.stats import mannwhitneyu\n",
    "\n",
    "alpha = .05 # Atribui o valor de 5% para o nível de significância dos testes."
   ]
  },
  {
   "cell_type": "code",
   "execution_count": null,
   "id": "9367bfad-9bec-4e56-b3a4-8daa5cad5efe",
   "metadata": {},
   "outputs": [],
   "source": [
    "# Separa as amostras entre os 7 primeiros meses e o 7 últimos meses do estudo.\n",
    "first_months = df_orders[df_orders['FirstOrder']<'2019-06-01']['TotalPrice']\n",
    "last_months = df_orders[df_orders['FirstOrder']>='2019-06-01']['TotalPrice']\n",
    "\n",
    "# Aplica o teste U de Mann-Whitney para ambas amostras.\n",
    "results = mannwhitneyu(first_months, last_months, alternative='two-sided')\n",
    "\n",
    "# Imprime o valor-p do teste.\n",
    "print('p-value:', results.pvalue)\n",
    "\n",
    "# Compara o valor-p com o nível de significância para avaliar a hipótese.\n",
    "if (results.pvalue < alpha):\n",
    "    print('Rejeitamos H₀: há diferença significativa entre as proporções')\n",
    "else:\n",
    "    print('Não rejeitamos H₀: não há diferença significativa')"
   ]
  },
  {
   "cell_type": "markdown",
   "id": "65c18491-5925-48b3-b604-6df492d33ffd",
   "metadata": {},
   "source": [
    "### 5.2 Hipótese 2: Não há diferença no volume médio entre as compras feitas de manhã e as feitas à tarde."
   ]
  },
  {
   "cell_type": "code",
   "execution_count": null,
   "id": "331f044c-9522-407c-9dbc-3f68bf2ea8e6",
   "metadata": {},
   "outputs": [],
   "source": [
    "# Separa as amostras entre os 7 primeiros meses e o 7 últimos meses do estudo.\n",
    "morning_clients = df_orders[df_orders['Hour']<12]['TotalPrice']\n",
    "afternoon_clients = df_orders[(df_orders['Hour']>=12) & (df_orders['Hour']<18)]['TotalPrice']\n",
    "\n",
    "# Aplica o teste U de Mann-Whitney para ambas amostras.\n",
    "results = mannwhitneyu(morning_clients, afternoon_clients, alternative='two-sided')\n",
    "\n",
    "# Imprime o valor-p do teste.\n",
    "print('p-value:', results.pvalue)\n",
    "\n",
    "# Compara o valor-p com o nível de significância para avaliar a hipótese.\n",
    "if (results.pvalue < alpha):\n",
    "    print('Rejeitamos H₀: há diferença significativa entre as proporções')\n",
    "else:\n",
    "    print('Não rejeitamos H₀: não há diferença significativa')"
   ]
  },
  {
   "cell_type": "markdown",
   "id": "6322403f-7330-442d-b2df-b64ca36de44e",
   "metadata": {},
   "source": [
    "### 5.3 Hipótese 3: Não há diferença no volume médio entre as compras feitas para as festas de fim de ano e as feitas no restante do ano."
   ]
  },
  {
   "cell_type": "code",
   "execution_count": null,
   "id": "a6b8698f-592d-4e38-9d31-9a023a7c5bb5",
   "metadata": {},
   "outputs": [],
   "source": [
    "# Separa as amostras entre os 7 primeiros meses e o 7 últimos meses do estudo.\n",
    "end_of_year = df_orders[(df_orders['Month']=='12-2018') | (df_orders['Month']=='12-2019')]['TotalPrice']\n",
    "rest_of_year = df_orders.drop(end_of_year.index)['TotalPrice']\n",
    "\n",
    "# Aplica o teste U de Mann-Whitney para ambas amostras.\n",
    "results = mannwhitneyu(end_of_year, rest_of_year, alternative='two-sided')\n",
    "\n",
    "# Imprime o valor-p do teste.\n",
    "print('p-value:', results.pvalue)\n",
    "\n",
    "# Compara o valor-p com o nível de significância para avaliar a hipótese.\n",
    "if (results.pvalue < alpha):\n",
    "    print('Rejeitamos H₀: há diferença significativa entre as proporções')\n",
    "else:\n",
    "    print('Não rejeitamos H₀: não há diferença significativa')"
   ]
  },
  {
   "cell_type": "markdown",
   "id": "455c1e4f-5e9d-4d05-94ed-616eeadfc3e3",
   "metadata": {},
   "source": [
    "Como retornado nos três testes de hipótese executados acima, os valores médios das amostras são muito divergentes e apresentaram diferença estatisticamente significativa entre as médias das amostras em todos os testes.\n",
    "\n",
    "Como os valores médios de compras dos clientes possuem grande amplitude e o conjunto de dados apresenta uma imensa quantidade de valores, torna-se complexo mensurar estatisticamente a semelhança no comportamente entre os grupos. Além disso, para futuras análises seria ideal observar a influência de novas implementações por meio de testes A/B, para definir o poder de interferência delas sobre o número de compras dos clientes de cada grupo.\n",
    "\n",
    "---"
   ]
  },
  {
   "cell_type": "markdown",
   "id": "6c83adc1-7c73-47c0-865d-8dba2119867c",
   "metadata": {},
   "source": [
    "## 6. Conclusão Geral"
   ]
  },
  {
   "cell_type": "markdown",
   "id": "1575bbc1-ef30-4c2d-a19f-044edb10254c",
   "metadata": {},
   "source": [
    "O aspecto de vendas no período que compreende novembro de 2018 a dezembro de 2019 foi de crescimento para as vendas na plataforma de e-commerce da Uhul Store. Os números de venda subiram nos últimos meses, em grande parte representandos pelos clientes mais antigos e em boa parte pelo surgimento de novos clientes no meio de 2019. Os números de vendas no final de 2019 tiveram grande destaque e apresentaram ótima tendência de vendas, com nova prospecção de crescimento durante o final desse ano.\n",
    "\n",
    "O LTV médio gerado pelos clientes também apresentou retorno considerável para a empresa. Os clientes que realizaram suas primeiras compras em novembro e dezembro de 2018 foram os que mais geraram receita para a loja ao longo do período. Recomendamos ao departamento de marketing campanhas relacionadas a promoções e ofertas exclusivas para a manutenção da fidelidade desse grupo de clientes.\n",
    "\n",
    "Em relação ao compartamento dos usuários, observamos que a grande maioria prefere realizar suas compras entre quarta e sexta-feira, preferencialmente no horário do almoço, que abrange horários entre 12h e 14h. Portanto, campanhas de vendas podem ser voltadas para esse período, incentivando o consumo dos clientes durante o uso da plataforma nesse horário.\n",
    "\n",
    "Analisando o grupo de clientes definidos como \"faixa de elite\", esses usuários ativos, fieis e que gastam mais costumam realizar suas compras às terças e quintas-feiras, nos horários de 10h e 12h. Essa informação também determina a execução de programas de fidelidade voltados para a manutenção desse espectro de clientes, que são os que trazem mais retorno atualmente para o negócio.\n",
    "\n",
    "Portanto, podemos concluir que a plataforma apresenta tendência de evolução, observado o crescimento nas vendas ao final do estudo. Apesar disso, os grupos de comportamento dos clientes ainda são dispersos, com alguns clientes específicos elevando os números do negócio. Dessa forma, recomendamos ao departamento de marketing a promoção de campanhas para cativar os clientes que menos frequentam a plataforma, a fim de uniformizar o comportamento dos usuários e fortalecer as vendas e o lucro do negócio para o próximo período.\n",
    "\n",
    "---"
   ]
  },
  {
   "cell_type": "markdown",
   "id": "1d590f45-6a4c-4846-b813-edf917390fba",
   "metadata": {},
   "source": [
    "## 7. Referências bibliográficas\n",
    "\n",
    "- https://www.machinelearningplus.com/machine-learning/how-to-detect-outliers-with-z-score/: remoção de outliers usando o método estatístico `z-score`, com o qual removemos valores que se distanciam da média do conjunto padrão de dados por meio do cálculo do desvio-padrão.\n",
    "\n",
    "- https://edrone.me/pt/blog/customer-lifetime-value: entendimento e aplicação da métrica de lifetime value (LTV) aos dados de compras dos usuários, calculando o valor médio gerado por cada usuário ao longo do período do estudo.\n",
    "\n",
    "- https://edrone.me/pt/blog/analise-de-rfm-para-e-commerce: a referência foi utilizada para aplicação da análise RFM no projeto, com o intuito de categorizar grupos de clientes com base no comportamento de compras na plataforma.\n",
    "\n",
    "- https://1fabiana-souza.medium.com/entendendo-o-m%C3%A9todo-qcut-0dc63f575f4e: aplicação do método `qcut()` para separação, em quantis, da categorização das métricas utilizadas na análise RFM do projeto.\n",
    "\n",
    "- https://www.technologynetworks.com/informatics/articles/mann-whitney-u-test-assumptions-and-example-363425: observação de distribuições de dados e identificação da aplicação do Teste U de Mann-Whitney para o teste de hipóteses da análise.\n",
    "\n",
    "- https://medium.com/@robert.j.breen/how-to-count-the-number-of-records-in-tableau-4263cf388dc4: artigo utilizado para entender e decifrar a apresentação de dados no dashboard do material, de forma a apresentar valores gerais fora dos gráficos da tela."
   ]
  },
  {
   "cell_type": "code",
   "execution_count": null,
   "id": "63f3fdf0-9246-4a02-8be9-d968fb5bacb8",
   "metadata": {},
   "outputs": [],
   "source": []
  }
 ],
 "metadata": {
  "kernelspec": {
   "display_name": "Python 3 (ipykernel)",
   "language": "python",
   "name": "python3"
  },
  "language_info": {
   "codemirror_mode": {
    "name": "ipython",
    "version": 3
   },
   "file_extension": ".py",
   "mimetype": "text/x-python",
   "name": "python",
   "nbconvert_exporter": "python",
   "pygments_lexer": "ipython3",
   "version": "3.12.7"
  }
 },
 "nbformat": 4,
 "nbformat_minor": 5
}
